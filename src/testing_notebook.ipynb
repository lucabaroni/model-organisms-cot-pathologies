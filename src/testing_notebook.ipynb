{
 "cells": [
  {
   "cell_type": "code",
   "execution_count": 17,
   "id": "111c1df2",
   "metadata": {},
   "outputs": [
    {
     "name": "stdout",
     "output_type": "stream",
     "text": [
      "Loading Qwen/Qwen3-4B...\n"
     ]
    },
    {
     "data": {
      "application/vnd.jupyter.widget-view+json": {
       "model_id": "f71957f252f0410dba62e8bcca7fa71c",
       "version_major": 2,
       "version_minor": 0
      },
      "text/plain": [
       "Loading checkpoint shards:   0%|          | 0/3 [00:00<?, ?it/s]"
      ]
     },
     "metadata": {},
     "output_type": "display_data"
    },
    {
     "name": "stdout",
     "output_type": "stream",
     "text": [
      "Model loaded!\n"
     ]
    }
   ],
   "source": [
    "from gsm8k_evaluator import GSM8KEvaluator, EvalConfig\n",
    "import torch\n",
    "\n",
    "\n",
    "EvalConfig = EvalConfig(\n",
    "    model_name=\"Qwen/Qwen3-4B\",\n",
    "    device=\"auto\",\n",
    "    num_samples=2,\n",
    "    temperature=0.0\n",
    ")\n",
    "\n",
    "a = GSM8KEvaluator(EvalConfig)\n",
    "a.load_model()\n"
   ]
  },
  {
   "cell_type": "code",
   "execution_count": 4,
   "id": "5ff1c6bd",
   "metadata": {},
   "outputs": [
    {
     "data": {
      "text/plain": [
       "Dataset({\n",
       "    features: ['A', 'B', 'C', 'D', 'Answer', 'Question'],\n",
       "    num_rows: 7468\n",
       "})"
      ]
     },
     "execution_count": 4,
     "metadata": {},
     "output_type": "execute_result"
    }
   ],
   "source": [
    "from dataset_loader import GSM8KLoader\n",
    "from datasets import load_dataset\n",
    "load_dataset(\"guipenedo/gsm8k-mc\", split='train')"
   ]
  }
 ],
 "metadata": {
  "kernelspec": {
   "display_name": "arena-env",
   "language": "python",
   "name": "python3"
  },
  "language_info": {
   "codemirror_mode": {
    "name": "ipython",
    "version": 3
   },
   "file_extension": ".py",
   "mimetype": "text/x-python",
   "name": "python",
   "nbconvert_exporter": "python",
   "pygments_lexer": "ipython3",
   "version": "3.11.13"
  }
 },
 "nbformat": 4,
 "nbformat_minor": 5
}
